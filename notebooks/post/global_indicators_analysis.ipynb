{
 "cells": [
  {
   "cell_type": "code",
   "execution_count": null,
   "outputs": [],
   "source": [
    "!pip install pandas"
   ],
   "metadata": {
    "collapsed": false,
    "pycharm": {
     "name": "#%%\n"
    }
   }
  },
  {
   "cell_type": "code",
   "execution_count": 1,
   "outputs": [],
   "source": [
    "from src.enum.setup.Paths import Paths\n",
    "from src.enum.setup.FileName import FileName\n",
    "from src.enum.setup.FileFormat import FileFormat\n",
    "from src.enum.setup.Scenario import Scenario\n",
    "from src.enum.setup.City import City\n",
    "from src.settings.Settings import Settings\n",
    "from src.utils import utils\n",
    "import pandas as pd\n",
    "from src.enum.identifiers.Statistic import Statistic as StatisticIdentifier"
   ],
   "metadata": {
    "collapsed": false,
    "pycharm": {
     "name": "#%%\n"
    }
   }
  },
  {
   "cell_type": "code",
   "execution_count": 2,
   "outputs": [],
   "source": [
    "env_settings = Settings()\n",
    "CITY = City(env_settings.CITY)\n",
    "SCENARIO = Scenario(env_settings.SCENARIO)"
   ],
   "metadata": {
    "collapsed": false,
    "pycharm": {
     "name": "#%%\n"
    }
   }
  },
  {
   "cell_type": "code",
   "execution_count": 3,
   "outputs": [],
   "source": [
    "input_absolute_path_to_file = utils.generate_sim_out_absolute_path_to_file(\n",
    "    Paths.SIM_OUTPUT,\n",
    "    FileName.GLOBAL_INDICATORS,\n",
    "    FileFormat.JSON,\n",
    "    Scenario.NORMAL,\n",
    "    CITY\n",
    ")\n",
    "\n",
    "global_indicators_stats = utils.read_file_from_absolute_path_to_file(\n",
    "    input_absolute_path_to_file,\n",
    "    FileFormat.JSON\n",
    ")"
   ],
   "metadata": {
    "collapsed": false,
    "pycharm": {
     "name": "#%%\n"
    }
   }
  },
  {
   "cell_type": "code",
   "execution_count": 4,
   "outputs": [],
   "source": [
    "df_dict = {}\n",
    "\n",
    "for k in global_indicators_stats.keys():\n",
    "    df_dict[k] = pd.json_normalize(global_indicators_stats[k].values())"
   ],
   "metadata": {
    "collapsed": false,
    "pycharm": {
     "name": "#%%\n"
    }
   }
  },
  {
   "cell_type": "code",
   "execution_count": 5,
   "outputs": [
    {
     "data": {
      "text/plain": "   po_0  po_1  po_2  po_3\n0     0     0     0     0\n1     0     0     0     0\n2     0     0     0     0\n3     0     0     0     0\n4     0     0     0     0",
      "text/html": "<div>\n<style scoped>\n    .dataframe tbody tr th:only-of-type {\n        vertical-align: middle;\n    }\n\n    .dataframe tbody tr th {\n        vertical-align: top;\n    }\n\n    .dataframe thead th {\n        text-align: right;\n    }\n</style>\n<table border=\"1\" class=\"dataframe\">\n  <thead>\n    <tr style=\"text-align: right;\">\n      <th></th>\n      <th>po_0</th>\n      <th>po_1</th>\n      <th>po_2</th>\n      <th>po_3</th>\n    </tr>\n  </thead>\n  <tbody>\n    <tr>\n      <th>0</th>\n      <td>0</td>\n      <td>0</td>\n      <td>0</td>\n      <td>0</td>\n    </tr>\n    <tr>\n      <th>1</th>\n      <td>0</td>\n      <td>0</td>\n      <td>0</td>\n      <td>0</td>\n    </tr>\n    <tr>\n      <th>2</th>\n      <td>0</td>\n      <td>0</td>\n      <td>0</td>\n      <td>0</td>\n    </tr>\n    <tr>\n      <th>3</th>\n      <td>0</td>\n      <td>0</td>\n      <td>0</td>\n      <td>0</td>\n    </tr>\n    <tr>\n      <th>4</th>\n      <td>0</td>\n      <td>0</td>\n      <td>0</td>\n      <td>0</td>\n    </tr>\n  </tbody>\n</table>\n</div>"
     },
     "execution_count": 5,
     "metadata": {},
     "output_type": "execute_result"
    }
   ],
   "source": [
    "df_dict[StatisticIdentifier.REQUESTED.value].head()"
   ],
   "metadata": {
    "collapsed": false,
    "pycharm": {
     "name": "#%%\n"
    }
   }
  },
  {
   "cell_type": "code",
   "execution_count": 6,
   "outputs": [
    {
     "data": {
      "text/plain": "po_0     94\npo_1     79\npo_2     96\npo_3    112\ndtype: int64"
     },
     "execution_count": 6,
     "metadata": {},
     "output_type": "execute_result"
    }
   ],
   "source": [
    "df_dict_req_sum = df_dict[StatisticIdentifier.REQUESTED.value].sum()\n",
    "df_dict_req_sum.head()"
   ],
   "metadata": {
    "collapsed": false,
    "pycharm": {
     "name": "#%%\n"
    }
   }
  },
  {
   "cell_type": "code",
   "execution_count": 7,
   "outputs": [
    {
     "data": {
      "text/plain": "po_0    3\npo_1    5\npo_2    0\npo_3    1\ndtype: int64"
     },
     "execution_count": 7,
     "metadata": {},
     "output_type": "execute_result"
    }
   ],
   "source": [
    "df_dict_req_sum = df_dict[StatisticIdentifier.CANCELED.value].sum()\n",
    "df_dict_req_sum.head()"
   ],
   "metadata": {
    "collapsed": false,
    "pycharm": {
     "name": "#%%\n"
    }
   }
  },
  {
   "cell_type": "code",
   "execution_count": 8,
   "outputs": [
    {
     "data": {
      "text/plain": "po_0     91\npo_1     71\npo_2     94\npo_3    110\ndtype: int64"
     },
     "execution_count": 8,
     "metadata": {},
     "output_type": "execute_result"
    }
   ],
   "source": [
    "df_dict_req_sum = df_dict[StatisticIdentifier.ACCEPTED.value].sum()\n",
    "df_dict_req_sum.head()"
   ],
   "metadata": {
    "collapsed": false,
    "pycharm": {
     "name": "#%%\n"
    }
   }
  },
  {
   "cell_type": "code",
   "execution_count": 9,
   "outputs": [
    {
     "data": {
      "text/plain": "po_0    0\npo_1    2\npo_2    0\npo_3    0\ndtype: int64"
     },
     "execution_count": 9,
     "metadata": {},
     "output_type": "execute_result"
    }
   ],
   "source": [
    "df_dict_req_sum = df_dict[StatisticIdentifier.NOT_SERVED.value].sum()\n",
    "df_dict_req_sum.head()"
   ],
   "metadata": {
    "collapsed": false,
    "pycharm": {
     "name": "#%%\n"
    }
   }
  },
  {
   "cell_type": "code",
   "execution_count": 10,
   "outputs": [
    {
     "data": {
      "text/plain": "po_0    44\npo_1    11\npo_2    40\npo_3    25\ndtype: int64"
     },
     "execution_count": 10,
     "metadata": {},
     "output_type": "execute_result"
    }
   ],
   "source": [
    "df_dict_req_sum = df_dict[StatisticIdentifier.REJECTIONS.value].sum()\n",
    "df_dict_req_sum.head()"
   ],
   "metadata": {
    "collapsed": false,
    "pycharm": {
     "name": "#%%\n"
    }
   }
  },
  {
   "cell_type": "code",
   "execution_count": 11,
   "outputs": [
    {
     "data": {
      "text/plain": "po_0    0\npo_1    1\npo_2    2\npo_3    1\ndtype: int64"
     },
     "execution_count": 11,
     "metadata": {},
     "output_type": "execute_result"
    }
   ],
   "source": [
    "df_dict_req_sum = df_dict[StatisticIdentifier.SIM_FAILURE_REJECTIONS.value].sum()\n",
    "df_dict_req_sum.head()"
   ],
   "metadata": {
    "collapsed": false,
    "pycharm": {
     "name": "#%%\n"
    }
   }
  },
  {
   "cell_type": "code",
   "execution_count": 12,
   "outputs": [
    {
     "data": {
      "text/plain": "po_0    4\npo_1    2\npo_2    0\npo_3    3\ndtype: int64"
     },
     "execution_count": 12,
     "metadata": {},
     "output_type": "execute_result"
    }
   ],
   "source": [
    "df_dict_req_sum = df_dict[StatisticIdentifier.SIM_FAILURE.value].sum()\n",
    "df_dict_req_sum.head()"
   ],
   "metadata": {
    "collapsed": false,
    "pycharm": {
     "name": "#%%\n"
    }
   }
  },
  {
   "cell_type": "code",
   "execution_count": null,
   "outputs": [],
   "source": [],
   "metadata": {
    "collapsed": false,
    "pycharm": {
     "name": "#%%\n"
    }
   }
  }
 ],
 "metadata": {
  "kernelspec": {
   "display_name": "Python 3",
   "language": "python",
   "name": "python3"
  },
  "language_info": {
   "codemirror_mode": {
    "name": "ipython",
    "version": 2
   },
   "file_extension": ".py",
   "mimetype": "text/x-python",
   "name": "python",
   "nbconvert_exporter": "python",
   "pygments_lexer": "ipython2",
   "version": "2.7.6"
  }
 },
 "nbformat": 4,
 "nbformat_minor": 0
}
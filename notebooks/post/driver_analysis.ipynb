{
 "cells": [
  {
   "cell_type": "code",
   "execution_count": null,
   "outputs": [],
   "source": [
    "!pip install pandas"
   ],
   "metadata": {
    "collapsed": false,
    "pycharm": {
     "name": "#%%\n"
    }
   }
  },
  {
   "cell_type": "code",
   "execution_count": 13,
   "metadata": {
    "collapsed": true
   },
   "outputs": [],
   "source": [
    "from src.enum.setup.Paths import Paths\n",
    "from src.enum.setup.FileName import FileName\n",
    "from src.enum.setup.FileFormat import FileFormat\n",
    "from src.enum.setup.Scenario import Scenario\n",
    "from src.enum.setup.City import City\n",
    "from src.settings.Settings import Settings\n",
    "from src.utils import utils\n",
    "import pandas as pd\n",
    "from src.enum.identifiers.Statistic import Statistic as StatisticIdentifier\n"
   ]
  },
  {
   "cell_type": "code",
   "execution_count": 14,
   "outputs": [],
   "source": [
    "env_settings = Settings()\n",
    "CITY = City(env_settings.CITY)\n",
    "SCENARIO = Scenario(env_settings.SCENARIO)"
   ],
   "metadata": {
    "collapsed": false,
    "pycharm": {
     "name": "#%%\n"
    }
   }
  },
  {
   "cell_type": "code",
   "execution_count": 15,
   "outputs": [],
   "source": [
    "input_absolute_path_to_file = utils.generate_absolute_path_to_file(\n",
    "    Paths.SIM_OUTPUT,\n",
    "    FileName.DRIVERS_STATS,\n",
    "    FileFormat.JSON,\n",
    "    SCENARIO,\n",
    "    CITY\n",
    ")\n",
    "\n",
    "drivers_sim_stats = utils.read_file_from_absolute_path_to_file(\n",
    "    input_absolute_path_to_file,\n",
    "    FileFormat.JSON\n",
    ")\n",
    "\n",
    "df_drivers = pd.json_normalize(\n",
    "    drivers_sim_stats.values(),\n",
    ")"
   ],
   "metadata": {
    "collapsed": false,
    "pycharm": {
     "name": "#%%\n"
    }
   }
  },
  {
   "cell_type": "code",
   "execution_count": 16,
   "outputs": [
    {
     "data": {
      "text/plain": "         id  start_timestamp  \\\n0  driver_0              2.0   \n1  driver_1              2.0   \n2  driver_2              6.0   \n3  driver_3              7.0   \n4  driver_4              7.0   \n\n                                      rides_id_list moving_to_tazs  \\\n0  [ride_2, ride_158, ride_363, ride_640, ride_677]             []   \n1  [ride_5, ride_118, ride_209, ride_319, ride_454]             []   \n2            [ride_6, ride_249, ride_332, ride_487]             []   \n3             [ride_7, ride_99, ride_280, ride_630]             []   \n4                      [ride_8, ride_179, ride_418]             []   \n\n   remotion_timestamp remotion_reason  \n0              1922.0       STOP_WORK  \n1              1643.0       STOP_WORK  \n2              1599.0       STOP_WORK  \n3              1886.0       STOP_WORK  \n4              1408.0       STOP_WORK  ",
      "text/html": "<div>\n<style scoped>\n    .dataframe tbody tr th:only-of-type {\n        vertical-align: middle;\n    }\n\n    .dataframe tbody tr th {\n        vertical-align: top;\n    }\n\n    .dataframe thead th {\n        text-align: right;\n    }\n</style>\n<table border=\"1\" class=\"dataframe\">\n  <thead>\n    <tr style=\"text-align: right;\">\n      <th></th>\n      <th>id</th>\n      <th>start_timestamp</th>\n      <th>rides_id_list</th>\n      <th>moving_to_tazs</th>\n      <th>remotion_timestamp</th>\n      <th>remotion_reason</th>\n    </tr>\n  </thead>\n  <tbody>\n    <tr>\n      <th>0</th>\n      <td>driver_0</td>\n      <td>2.0</td>\n      <td>[ride_2, ride_158, ride_363, ride_640, ride_677]</td>\n      <td>[]</td>\n      <td>1922.0</td>\n      <td>STOP_WORK</td>\n    </tr>\n    <tr>\n      <th>1</th>\n      <td>driver_1</td>\n      <td>2.0</td>\n      <td>[ride_5, ride_118, ride_209, ride_319, ride_454]</td>\n      <td>[]</td>\n      <td>1643.0</td>\n      <td>STOP_WORK</td>\n    </tr>\n    <tr>\n      <th>2</th>\n      <td>driver_2</td>\n      <td>6.0</td>\n      <td>[ride_6, ride_249, ride_332, ride_487]</td>\n      <td>[]</td>\n      <td>1599.0</td>\n      <td>STOP_WORK</td>\n    </tr>\n    <tr>\n      <th>3</th>\n      <td>driver_3</td>\n      <td>7.0</td>\n      <td>[ride_7, ride_99, ride_280, ride_630]</td>\n      <td>[]</td>\n      <td>1886.0</td>\n      <td>STOP_WORK</td>\n    </tr>\n    <tr>\n      <th>4</th>\n      <td>driver_4</td>\n      <td>7.0</td>\n      <td>[ride_8, ride_179, ride_418]</td>\n      <td>[]</td>\n      <td>1408.0</td>\n      <td>STOP_WORK</td>\n    </tr>\n  </tbody>\n</table>\n</div>"
     },
     "execution_count": 16,
     "metadata": {},
     "output_type": "execute_result"
    }
   ],
   "source": [
    "df_drivers.head()"
   ],
   "metadata": {
    "collapsed": false,
    "pycharm": {
     "name": "#%%\n"
    }
   }
  },
  {
   "cell_type": "code",
   "execution_count": 17,
   "outputs": [
    {
     "data": {
      "text/plain": "(531, 6)"
     },
     "execution_count": 17,
     "metadata": {},
     "output_type": "execute_result"
    }
   ],
   "source": [
    "df_drivers.shape"
   ],
   "metadata": {
    "collapsed": false,
    "pycharm": {
     "name": "#%%\n"
    }
   }
  },
  {
   "cell_type": "code",
   "execution_count": 18,
   "outputs": [
    {
     "data": {
      "text/plain": "                              remotion_reason  count\n0                            SET_ROUTE_FAILED      5\n1                                   STOP_WORK    164\n2  TRACI_FORCED_CUSTOMER_REMOTION_DURING_RIDE      3\n3               UNPROFITABLE_SURGE_MULTIPLIER     15",
      "text/html": "<div>\n<style scoped>\n    .dataframe tbody tr th:only-of-type {\n        vertical-align: middle;\n    }\n\n    .dataframe tbody tr th {\n        vertical-align: top;\n    }\n\n    .dataframe thead th {\n        text-align: right;\n    }\n</style>\n<table border=\"1\" class=\"dataframe\">\n  <thead>\n    <tr style=\"text-align: right;\">\n      <th></th>\n      <th>remotion_reason</th>\n      <th>count</th>\n    </tr>\n  </thead>\n  <tbody>\n    <tr>\n      <th>0</th>\n      <td>SET_ROUTE_FAILED</td>\n      <td>5</td>\n    </tr>\n    <tr>\n      <th>1</th>\n      <td>STOP_WORK</td>\n      <td>164</td>\n    </tr>\n    <tr>\n      <th>2</th>\n      <td>TRACI_FORCED_CUSTOMER_REMOTION_DURING_RIDE</td>\n      <td>3</td>\n    </tr>\n    <tr>\n      <th>3</th>\n      <td>UNPROFITABLE_SURGE_MULTIPLIER</td>\n      <td>15</td>\n    </tr>\n  </tbody>\n</table>\n</div>"
     },
     "execution_count": 18,
     "metadata": {},
     "output_type": "execute_result"
    }
   ],
   "source": [
    "df_drivers_remove = df_drivers.groupby([StatisticIdentifier.REMOTION_REASON.value])[[StatisticIdentifier.REMOTION_REASON.value]].value_counts()\n",
    "df_drivers_remove = df_drivers_remove.reset_index(name='count')\n",
    "df_drivers_remove.head()"
   ],
   "metadata": {
    "collapsed": false,
    "pycharm": {
     "name": "#%%\n"
    }
   }
  },
  {
   "cell_type": "code",
   "execution_count": null,
   "outputs": [],
   "source": [],
   "metadata": {
    "collapsed": false,
    "pycharm": {
     "name": "#%%\n"
    }
   }
  }
 ],
 "metadata": {
  "kernelspec": {
   "display_name": "Python 3",
   "language": "python",
   "name": "python3"
  },
  "language_info": {
   "codemirror_mode": {
    "name": "ipython",
    "version": 2
   },
   "file_extension": ".py",
   "mimetype": "text/x-python",
   "name": "python",
   "nbconvert_exporter": "python",
   "pygments_lexer": "ipython2",
   "version": "2.7.6"
  }
 },
 "nbformat": 4,
 "nbformat_minor": 0
}
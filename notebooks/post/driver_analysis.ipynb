{
 "cells": [
  {
   "cell_type": "code",
   "execution_count": null,
   "outputs": [],
   "source": [
    "!pip install pandas"
   ],
   "metadata": {
    "collapsed": false,
    "pycharm": {
     "name": "#%%\n"
    }
   }
  },
  {
   "cell_type": "code",
   "execution_count": 7,
   "metadata": {
    "collapsed": true
   },
   "outputs": [],
   "source": [
    "from src.enum.setup.Paths import Paths\n",
    "from src.enum.setup.FileName import FileName\n",
    "from src.enum.setup.FileFormat import FileFormat\n",
    "from src.enum.setup.Scenario import Scenario\n",
    "from src.enum.setup.City import City\n",
    "from src.settings.Settings import Settings\n",
    "from src.utils import utils\n",
    "import pandas as pd\n",
    "from src.enum.identifiers.Statistic import Statistic as StatisticIdentifier"
   ]
  },
  {
   "cell_type": "code",
   "execution_count": 13,
   "outputs": [],
   "source": [
    "env_settings = Settings()\n",
    "CITY = City(env_settings.CITY)\n",
    "SCENARIO = Scenario(env_settings.SCENARIO)"
   ],
   "metadata": {
    "collapsed": false,
    "pycharm": {
     "name": "#%%\n"
    }
   }
  },
  {
   "cell_type": "code",
   "execution_count": 14,
   "outputs": [],
   "source": [
    "input_absolute_path_to_file = utils.generate_sim_out_absolute_path_to_file(\n",
    "    Paths.SIM_OUTPUT,\n",
    "    FileName.DRIVERS_STATS,\n",
    "    FileFormat.JSON,\n",
    "    Scenario.NORMAL,\n",
    "    CITY\n",
    ")\n",
    "\n",
    "drivers_sim_stats = utils.read_file_from_absolute_path_to_file(\n",
    "    input_absolute_path_to_file,\n",
    "    FileFormat.JSON\n",
    ")\n",
    "\n",
    "df_drivers = pd.json_normalize(\n",
    "    drivers_sim_stats.values(),\n",
    ")"
   ],
   "metadata": {
    "collapsed": false,
    "pycharm": {
     "name": "#%%\n"
    }
   }
  },
  {
   "cell_type": "code",
   "execution_count": 15,
   "outputs": [
    {
     "data": {
      "text/plain": "         id  start_timestamp  \\\n0  driver_0              0.0   \n1  driver_1              3.0   \n2  driver_2              4.0   \n3  driver_3              5.0   \n4  driver_4              5.0   \n\n                                       rides_id_list         moving_to_tazs  \\\n0                                          [ride_10]                     []   \n1                                           [ride_1]                     []   \n2  [ride_2, ride_66, ride_143, ride_209, ride_273...                     []   \n3                                           [ride_0]  [[300.0, po_3, po_1]]   \n4                        [ride_3, ride_60, ride_104]  [[900.0, po_0, po_3]]   \n\n   remotion_timestamp                remotion_reason  \n0               332.0  UNPROFITABLE_SURGE_MULTIPLIER  \n1               355.0  UNPROFITABLE_SURGE_MULTIPLIER  \n2                 NaN                            NaN  \n3               785.0  UNPROFITABLE_SURGE_MULTIPLIER  \n4              1225.0                      STOP_WORK  ",
      "text/html": "<div>\n<style scoped>\n    .dataframe tbody tr th:only-of-type {\n        vertical-align: middle;\n    }\n\n    .dataframe tbody tr th {\n        vertical-align: top;\n    }\n\n    .dataframe thead th {\n        text-align: right;\n    }\n</style>\n<table border=\"1\" class=\"dataframe\">\n  <thead>\n    <tr style=\"text-align: right;\">\n      <th></th>\n      <th>id</th>\n      <th>start_timestamp</th>\n      <th>rides_id_list</th>\n      <th>moving_to_tazs</th>\n      <th>remotion_timestamp</th>\n      <th>remotion_reason</th>\n    </tr>\n  </thead>\n  <tbody>\n    <tr>\n      <th>0</th>\n      <td>driver_0</td>\n      <td>0.0</td>\n      <td>[ride_10]</td>\n      <td>[]</td>\n      <td>332.0</td>\n      <td>UNPROFITABLE_SURGE_MULTIPLIER</td>\n    </tr>\n    <tr>\n      <th>1</th>\n      <td>driver_1</td>\n      <td>3.0</td>\n      <td>[ride_1]</td>\n      <td>[]</td>\n      <td>355.0</td>\n      <td>UNPROFITABLE_SURGE_MULTIPLIER</td>\n    </tr>\n    <tr>\n      <th>2</th>\n      <td>driver_2</td>\n      <td>4.0</td>\n      <td>[ride_2, ride_66, ride_143, ride_209, ride_273...</td>\n      <td>[]</td>\n      <td>NaN</td>\n      <td>NaN</td>\n    </tr>\n    <tr>\n      <th>3</th>\n      <td>driver_3</td>\n      <td>5.0</td>\n      <td>[ride_0]</td>\n      <td>[[300.0, po_3, po_1]]</td>\n      <td>785.0</td>\n      <td>UNPROFITABLE_SURGE_MULTIPLIER</td>\n    </tr>\n    <tr>\n      <th>4</th>\n      <td>driver_4</td>\n      <td>5.0</td>\n      <td>[ride_3, ride_60, ride_104]</td>\n      <td>[[900.0, po_0, po_3]]</td>\n      <td>1225.0</td>\n      <td>STOP_WORK</td>\n    </tr>\n  </tbody>\n</table>\n</div>"
     },
     "execution_count": 15,
     "metadata": {},
     "output_type": "execute_result"
    }
   ],
   "source": [
    "df_drivers.head()"
   ],
   "metadata": {
    "collapsed": false,
    "pycharm": {
     "name": "#%%\n"
    }
   }
  },
  {
   "cell_type": "code",
   "execution_count": 16,
   "outputs": [
    {
     "data": {
      "text/plain": "(346, 6)"
     },
     "execution_count": 16,
     "metadata": {},
     "output_type": "execute_result"
    }
   ],
   "source": [
    "df_drivers.shape"
   ],
   "metadata": {
    "collapsed": false,
    "pycharm": {
     "name": "#%%\n"
    }
   }
  },
  {
   "cell_type": "code",
   "execution_count": 17,
   "outputs": [
    {
     "data": {
      "text/plain": "                 remotion_reason  count\n0               SET_ROUTE_FAILED      3\n1                      STOP_WORK     10\n2  UNPROFITABLE_SURGE_MULTIPLIER    242",
      "text/html": "<div>\n<style scoped>\n    .dataframe tbody tr th:only-of-type {\n        vertical-align: middle;\n    }\n\n    .dataframe tbody tr th {\n        vertical-align: top;\n    }\n\n    .dataframe thead th {\n        text-align: right;\n    }\n</style>\n<table border=\"1\" class=\"dataframe\">\n  <thead>\n    <tr style=\"text-align: right;\">\n      <th></th>\n      <th>remotion_reason</th>\n      <th>count</th>\n    </tr>\n  </thead>\n  <tbody>\n    <tr>\n      <th>0</th>\n      <td>SET_ROUTE_FAILED</td>\n      <td>3</td>\n    </tr>\n    <tr>\n      <th>1</th>\n      <td>STOP_WORK</td>\n      <td>10</td>\n    </tr>\n    <tr>\n      <th>2</th>\n      <td>UNPROFITABLE_SURGE_MULTIPLIER</td>\n      <td>242</td>\n    </tr>\n  </tbody>\n</table>\n</div>"
     },
     "execution_count": 17,
     "metadata": {},
     "output_type": "execute_result"
    }
   ],
   "source": [
    "df_drivers_remove = df_drivers.groupby([StatisticIdentifier.REMOTION_REASON.value])[[StatisticIdentifier.REMOTION_REASON.value]].value_counts()\n",
    "df_drivers_remove = df_drivers_remove.reset_index(name='count')\n",
    "df_drivers_remove.head()"
   ],
   "metadata": {
    "collapsed": false,
    "pycharm": {
     "name": "#%%\n"
    }
   }
  },
  {
   "cell_type": "code",
   "execution_count": null,
   "outputs": [],
   "source": [],
   "metadata": {
    "collapsed": false,
    "pycharm": {
     "name": "#%%\n"
    }
   }
  }
 ],
 "metadata": {
  "kernelspec": {
   "display_name": "Python 3",
   "language": "python",
   "name": "python3"
  },
  "language_info": {
   "codemirror_mode": {
    "name": "ipython",
    "version": 2
   },
   "file_extension": ".py",
   "mimetype": "text/x-python",
   "name": "python",
   "nbconvert_exporter": "python",
   "pygments_lexer": "ipython2",
   "version": "2.7.6"
  }
 },
 "nbformat": 4,
 "nbformat_minor": 0
}
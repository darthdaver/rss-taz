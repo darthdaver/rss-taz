{
 "cells": [
  {
   "cell_type": "code",
   "execution_count": null,
   "outputs": [],
   "source": [
    "!pip install pandas"
   ],
   "metadata": {
    "collapsed": false,
    "pycharm": {
     "name": "#%%\n"
    }
   }
  },
  {
   "cell_type": "code",
   "execution_count": 1,
   "metadata": {
    "collapsed": true
   },
   "outputs": [],
   "source": [
    "from src.enum.setup.Paths import Paths\n",
    "from src.enum.setup.FileName import FileName\n",
    "from src.enum.setup.FileFormat import FileFormat\n",
    "from src.enum.setup.Scenario import Scenario\n",
    "from src.enum.setup.City import City\n",
    "from src.settings.Settings import Settings\n",
    "from src.utils import utils\n",
    "import pandas as pd\n",
    "from src.enum.identifiers.Statistic import Statistic as StatisticIdentifier\n"
   ]
  },
  {
   "cell_type": "code",
   "execution_count": 2,
   "outputs": [],
   "source": [
    "env_settings = Settings()\n",
    "CITY = City(env_settings.CITY)\n",
    "SCENARIO = Scenario(env_settings.SCENARIO)"
   ],
   "metadata": {
    "collapsed": false,
    "pycharm": {
     "name": "#%%\n"
    }
   }
  },
  {
   "cell_type": "code",
   "execution_count": 3,
   "outputs": [],
   "source": [
    "input_absolute_path_to_file = utils.generate_absolute_path_to_file(\n",
    "    Paths.SIM_OUTPUT,\n",
    "    FileName.DRIVERS_STATS,\n",
    "    FileFormat.JSON,\n",
    "    SCENARIO,\n",
    "    CITY\n",
    ")\n",
    "\n",
    "drivers_sim_stats = utils.read_file_from_absolute_path_to_file(\n",
    "    input_absolute_path_to_file,\n",
    "    FileFormat.JSON\n",
    ")\n",
    "\n",
    "df_drivers = pd.json_normalize(\n",
    "    drivers_sim_stats.values(),\n",
    ")"
   ],
   "metadata": {
    "collapsed": false,
    "pycharm": {
     "name": "#%%\n"
    }
   }
  },
  {
   "cell_type": "code",
   "execution_count": 4,
   "outputs": [
    {
     "data": {
      "text/plain": "         id  start_timestamp  \\\n0  driver_0              2.0   \n1  driver_1              3.0   \n2  driver_2              4.0   \n3  driver_3              6.0   \n4  driver_4              7.0   \n\n                                       rides_id_list moving_to_tazs  \\\n0  [ride_6, ride_124, ride_181, ride_413, ride_79...             []   \n1            [ride_34, ride_117, ride_454, ride_678]             []   \n2  [ride_2, ride_136, ride_269, ride_641, ride_77...             []   \n3              [ride_4, ride_92, ride_223, ride_371]             []   \n4  [ride_22, ride_292, ride_453, ride_667, ride_819]             []   \n\n   remotion_timestamp remotion_reason  \n0                 NaN             NaN  \n1              1930.0       STOP_WORK  \n2                 NaN             NaN  \n3              1368.0       STOP_WORK  \n4                 NaN             NaN  ",
      "text/html": "<div>\n<style scoped>\n    .dataframe tbody tr th:only-of-type {\n        vertical-align: middle;\n    }\n\n    .dataframe tbody tr th {\n        vertical-align: top;\n    }\n\n    .dataframe thead th {\n        text-align: right;\n    }\n</style>\n<table border=\"1\" class=\"dataframe\">\n  <thead>\n    <tr style=\"text-align: right;\">\n      <th></th>\n      <th>id</th>\n      <th>start_timestamp</th>\n      <th>rides_id_list</th>\n      <th>moving_to_tazs</th>\n      <th>remotion_timestamp</th>\n      <th>remotion_reason</th>\n    </tr>\n  </thead>\n  <tbody>\n    <tr>\n      <th>0</th>\n      <td>driver_0</td>\n      <td>2.0</td>\n      <td>[ride_6, ride_124, ride_181, ride_413, ride_79...</td>\n      <td>[]</td>\n      <td>NaN</td>\n      <td>NaN</td>\n    </tr>\n    <tr>\n      <th>1</th>\n      <td>driver_1</td>\n      <td>3.0</td>\n      <td>[ride_34, ride_117, ride_454, ride_678]</td>\n      <td>[]</td>\n      <td>1930.0</td>\n      <td>STOP_WORK</td>\n    </tr>\n    <tr>\n      <th>2</th>\n      <td>driver_2</td>\n      <td>4.0</td>\n      <td>[ride_2, ride_136, ride_269, ride_641, ride_77...</td>\n      <td>[]</td>\n      <td>NaN</td>\n      <td>NaN</td>\n    </tr>\n    <tr>\n      <th>3</th>\n      <td>driver_3</td>\n      <td>6.0</td>\n      <td>[ride_4, ride_92, ride_223, ride_371]</td>\n      <td>[]</td>\n      <td>1368.0</td>\n      <td>STOP_WORK</td>\n    </tr>\n    <tr>\n      <th>4</th>\n      <td>driver_4</td>\n      <td>7.0</td>\n      <td>[ride_22, ride_292, ride_453, ride_667, ride_819]</td>\n      <td>[]</td>\n      <td>NaN</td>\n      <td>NaN</td>\n    </tr>\n  </tbody>\n</table>\n</div>"
     },
     "execution_count": 4,
     "metadata": {},
     "output_type": "execute_result"
    }
   ],
   "source": [
    "df_drivers.head()"
   ],
   "metadata": {
    "collapsed": false,
    "pycharm": {
     "name": "#%%\n"
    }
   }
  },
  {
   "cell_type": "code",
   "execution_count": 5,
   "outputs": [
    {
     "data": {
      "text/plain": "(313, 6)"
     },
     "execution_count": 5,
     "metadata": {},
     "output_type": "execute_result"
    }
   ],
   "source": [
    "df_drivers.shape"
   ],
   "metadata": {
    "collapsed": false,
    "pycharm": {
     "name": "#%%\n"
    }
   }
  },
  {
   "cell_type": "code",
   "execution_count": 6,
   "outputs": [
    {
     "data": {
      "text/plain": "  remotion_reason  count\n0       STOP_WORK    131",
      "text/html": "<div>\n<style scoped>\n    .dataframe tbody tr th:only-of-type {\n        vertical-align: middle;\n    }\n\n    .dataframe tbody tr th {\n        vertical-align: top;\n    }\n\n    .dataframe thead th {\n        text-align: right;\n    }\n</style>\n<table border=\"1\" class=\"dataframe\">\n  <thead>\n    <tr style=\"text-align: right;\">\n      <th></th>\n      <th>remotion_reason</th>\n      <th>count</th>\n    </tr>\n  </thead>\n  <tbody>\n    <tr>\n      <th>0</th>\n      <td>STOP_WORK</td>\n      <td>131</td>\n    </tr>\n  </tbody>\n</table>\n</div>"
     },
     "execution_count": 6,
     "metadata": {},
     "output_type": "execute_result"
    }
   ],
   "source": [
    "df_drivers_remove = df_drivers.groupby([StatisticIdentifier.REMOTION_REASON.value])[[StatisticIdentifier.REMOTION_REASON.value]].value_counts()\n",
    "df_drivers_remove = df_drivers_remove.reset_index(name='count')\n",
    "df_drivers_remove.head()"
   ],
   "metadata": {
    "collapsed": false,
    "pycharm": {
     "name": "#%%\n"
    }
   }
  },
  {
   "cell_type": "code",
   "execution_count": null,
   "outputs": [],
   "source": [],
   "metadata": {
    "collapsed": false,
    "pycharm": {
     "name": "#%%\n"
    }
   }
  }
 ],
 "metadata": {
  "kernelspec": {
   "display_name": "Python 3",
   "language": "python",
   "name": "python3"
  },
  "language_info": {
   "codemirror_mode": {
    "name": "ipython",
    "version": 2
   },
   "file_extension": ".py",
   "mimetype": "text/x-python",
   "name": "python",
   "nbconvert_exporter": "python",
   "pygments_lexer": "ipython2",
   "version": "2.7.6"
  }
 },
 "nbformat": 4,
 "nbformat_minor": 0
}
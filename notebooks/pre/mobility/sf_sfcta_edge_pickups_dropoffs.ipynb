{
 "cells": [
  {
   "cell_type": "code",
   "execution_count": null,
   "outputs": [],
   "source": [
    "!pip install pandas\n",
    "!pip install numpy"
   ],
   "metadata": {
    "collapsed": false,
    "pycharm": {
     "name": "#%%\n"
    }
   }
  },
  {
   "cell_type": "code",
   "execution_count": 32,
   "outputs": [],
   "source": [
    "import pandas as pd\n",
    "from src.enum.setup.Paths import Paths\n",
    "from src.enum.setup.FileFormat import FileFormat\n",
    "from src.enum.setup.FileName import FileName\n",
    "from src.enum.setup.Dataset import Dataset\n",
    "from src.enum.setup.City import City\n",
    "from src.utils import utils\n",
    "import numpy"
   ],
   "metadata": {
    "collapsed": false,
    "pycharm": {
     "name": "#%%\n"
    }
   }
  },
  {
   "cell_type": "code",
   "execution_count": 22,
   "outputs": [],
   "source": [
    "input_absolute_path_to_file = utils.generate_absolute_path_to_file(\n",
    "    Paths.MOBILITY,\n",
    "    FileName.DROP_STATS,\n",
    "    FileFormat.CSV,\n",
    "    Dataset.SFCTA,\n",
    "    City.SAN_FRANCISCO\n",
    ")\n",
    "df_sf_d = pd.read_csv(input_absolute_path_to_file)"
   ],
   "metadata": {
    "collapsed": false,
    "pycharm": {
     "name": "#%%\n"
    }
   }
  },
  {
   "cell_type": "code",
   "execution_count": 23,
   "outputs": [
    {
     "data": {
      "text/plain": "   taz     sum    max  min  mean   std   25p   50p   75p\n0    1  102.65   2.00  0.0  0.61  0.43  0.25  0.50  1.00\n1    2  272.35   6.25  0.0  1.62  1.01  0.80  1.50  2.21\n2    3  150.60   3.50  0.0  0.90  0.69  0.40  0.80  1.25\n3    4  693.50  12.50  0.6  4.13  2.30  2.40  3.68  5.25\n4    5   87.75   2.00  0.0  0.52  0.44  0.20  0.45  0.75",
      "text/html": "<div>\n<style scoped>\n    .dataframe tbody tr th:only-of-type {\n        vertical-align: middle;\n    }\n\n    .dataframe tbody tr th {\n        vertical-align: top;\n    }\n\n    .dataframe thead th {\n        text-align: right;\n    }\n</style>\n<table border=\"1\" class=\"dataframe\">\n  <thead>\n    <tr style=\"text-align: right;\">\n      <th></th>\n      <th>taz</th>\n      <th>sum</th>\n      <th>max</th>\n      <th>min</th>\n      <th>mean</th>\n      <th>std</th>\n      <th>25p</th>\n      <th>50p</th>\n      <th>75p</th>\n    </tr>\n  </thead>\n  <tbody>\n    <tr>\n      <th>0</th>\n      <td>1</td>\n      <td>102.65</td>\n      <td>2.00</td>\n      <td>0.0</td>\n      <td>0.61</td>\n      <td>0.43</td>\n      <td>0.25</td>\n      <td>0.50</td>\n      <td>1.00</td>\n    </tr>\n    <tr>\n      <th>1</th>\n      <td>2</td>\n      <td>272.35</td>\n      <td>6.25</td>\n      <td>0.0</td>\n      <td>1.62</td>\n      <td>1.01</td>\n      <td>0.80</td>\n      <td>1.50</td>\n      <td>2.21</td>\n    </tr>\n    <tr>\n      <th>2</th>\n      <td>3</td>\n      <td>150.60</td>\n      <td>3.50</td>\n      <td>0.0</td>\n      <td>0.90</td>\n      <td>0.69</td>\n      <td>0.40</td>\n      <td>0.80</td>\n      <td>1.25</td>\n    </tr>\n    <tr>\n      <th>3</th>\n      <td>4</td>\n      <td>693.50</td>\n      <td>12.50</td>\n      <td>0.6</td>\n      <td>4.13</td>\n      <td>2.30</td>\n      <td>2.40</td>\n      <td>3.68</td>\n      <td>5.25</td>\n    </tr>\n    <tr>\n      <th>4</th>\n      <td>5</td>\n      <td>87.75</td>\n      <td>2.00</td>\n      <td>0.0</td>\n      <td>0.52</td>\n      <td>0.44</td>\n      <td>0.20</td>\n      <td>0.45</td>\n      <td>0.75</td>\n    </tr>\n  </tbody>\n</table>\n</div>"
     },
     "execution_count": 23,
     "metadata": {},
     "output_type": "execute_result"
    }
   ],
   "source": [
    "df_sf_d.head()"
   ],
   "metadata": {
    "collapsed": false,
    "pycharm": {
     "name": "#%%\n"
    }
   }
  },
  {
   "cell_type": "code",
   "execution_count": 24,
   "outputs": [],
   "source": [
    "input_absolute_path_to_file = utils.generate_absolute_path_to_file(\n",
    "    Paths.MOBILITY,\n",
    "    FileName.PICKUPS_STATS,\n",
    "    FileFormat.CSV,\n",
    "    Dataset.SFCTA,\n",
    "    City.SAN_FRANCISCO\n",
    ")\n",
    "df_sf_p = pd.read_csv(input_absolute_path_to_file)"
   ],
   "metadata": {
    "collapsed": false,
    "pycharm": {
     "name": "#%%\n"
    }
   }
  },
  {
   "cell_type": "code",
   "execution_count": 25,
   "outputs": [
    {
     "data": {
      "text/plain": "   taz     sum    max   min  mean   std   25p   50p   75p\n0    1  113.35   2.25  0.00  0.67  0.52  0.25  0.60  1.00\n1    2  239.20   5.25  0.00  1.42  1.01  0.75  1.23  2.00\n2    3  140.60   3.50  0.00  0.84  0.69  0.25  0.75  1.25\n3    4  643.25  12.00  0.75  3.83  2.25  2.25  3.40  4.75\n4    5  111.20   2.75  0.00  0.66  0.53  0.25  0.60  1.00",
      "text/html": "<div>\n<style scoped>\n    .dataframe tbody tr th:only-of-type {\n        vertical-align: middle;\n    }\n\n    .dataframe tbody tr th {\n        vertical-align: top;\n    }\n\n    .dataframe thead th {\n        text-align: right;\n    }\n</style>\n<table border=\"1\" class=\"dataframe\">\n  <thead>\n    <tr style=\"text-align: right;\">\n      <th></th>\n      <th>taz</th>\n      <th>sum</th>\n      <th>max</th>\n      <th>min</th>\n      <th>mean</th>\n      <th>std</th>\n      <th>25p</th>\n      <th>50p</th>\n      <th>75p</th>\n    </tr>\n  </thead>\n  <tbody>\n    <tr>\n      <th>0</th>\n      <td>1</td>\n      <td>113.35</td>\n      <td>2.25</td>\n      <td>0.00</td>\n      <td>0.67</td>\n      <td>0.52</td>\n      <td>0.25</td>\n      <td>0.60</td>\n      <td>1.00</td>\n    </tr>\n    <tr>\n      <th>1</th>\n      <td>2</td>\n      <td>239.20</td>\n      <td>5.25</td>\n      <td>0.00</td>\n      <td>1.42</td>\n      <td>1.01</td>\n      <td>0.75</td>\n      <td>1.23</td>\n      <td>2.00</td>\n    </tr>\n    <tr>\n      <th>2</th>\n      <td>3</td>\n      <td>140.60</td>\n      <td>3.50</td>\n      <td>0.00</td>\n      <td>0.84</td>\n      <td>0.69</td>\n      <td>0.25</td>\n      <td>0.75</td>\n      <td>1.25</td>\n    </tr>\n    <tr>\n      <th>3</th>\n      <td>4</td>\n      <td>643.25</td>\n      <td>12.00</td>\n      <td>0.75</td>\n      <td>3.83</td>\n      <td>2.25</td>\n      <td>2.25</td>\n      <td>3.40</td>\n      <td>4.75</td>\n    </tr>\n    <tr>\n      <th>4</th>\n      <td>5</td>\n      <td>111.20</td>\n      <td>2.75</td>\n      <td>0.00</td>\n      <td>0.66</td>\n      <td>0.53</td>\n      <td>0.25</td>\n      <td>0.60</td>\n      <td>1.00</td>\n    </tr>\n  </tbody>\n</table>\n</div>"
     },
     "execution_count": 25,
     "metadata": {},
     "output_type": "execute_result"
    }
   ],
   "source": [
    "df_sf_p.head()"
   ],
   "metadata": {
    "collapsed": false,
    "pycharm": {
     "name": "#%%\n"
    }
   }
  },
  {
   "cell_type": "code",
   "execution_count": 39,
   "outputs": [
    {
     "name": "stdout",
     "output_type": "stream",
     "text": [
      "sum: 1213250.0\n",
      "mean_sum: 7198.0\n",
      "(round) sum: 1213248.6\n",
      "(round) mean_sum: 7221.7\n"
     ]
    }
   ],
   "source": [
    "print(f\"sum: {round(df_sf_p['sum']).sum()}\")\n",
    "print(f\"mean_sum: {round(df_sf_p['mean']).sum()}\")\n",
    "print(f\"(round) sum: {df_sf_p['sum'].sum()}\")\n",
    "print(f\"(round) mean_sum: {df_sf_p['mean'].sum()}\")"
   ],
   "metadata": {
    "collapsed": false,
    "pycharm": {
     "name": "#%%\n"
    }
   }
  },
  {
   "cell_type": "code",
   "execution_count": 40,
   "outputs": [
    {
     "name": "stdout",
     "output_type": "stream",
     "text": [
      "sum: 1213239.0\n",
      "mean_sum: 7240.0\n",
      "(round) sum: 1213248.6\n",
      "(round) mean_sum: 7221.870000000001\n"
     ]
    }
   ],
   "source": [
    "print(f\"sum: {round(df_sf_d['sum']).sum()}\")\n",
    "print(f\"mean_sum: {round(df_sf_d['mean']).sum()}\")\n",
    "print(f\"(round) sum: {df_sf_d['sum'].sum()}\")\n",
    "print(f\"(round) mean_sum: {df_sf_d['mean'].sum()}\")"
   ],
   "metadata": {
    "collapsed": false,
    "pycharm": {
     "name": "#%%\n"
    }
   }
  },
  {
   "cell_type": "code",
   "execution_count": null,
   "outputs": [],
   "source": [],
   "metadata": {
    "collapsed": false,
    "pycharm": {
     "name": "#%%\n"
    }
   }
  },
  {
   "cell_type": "code",
   "execution_count": null,
   "outputs": [],
   "source": [],
   "metadata": {
    "collapsed": false,
    "pycharm": {
     "name": "#%%\n"
    }
   }
  }
 ],
 "metadata": {
  "kernelspec": {
   "display_name": "Python 3",
   "language": "python",
   "name": "python3"
  },
  "language_info": {
   "codemirror_mode": {
    "name": "ipython",
    "version": 2
   },
   "file_extension": ".py",
   "mimetype": "text/x-python",
   "name": "python",
   "nbconvert_exporter": "python",
   "pygments_lexer": "ipython2",
   "version": "2.7.6"
  }
 },
 "nbformat": 4,
 "nbformat_minor": 0
}
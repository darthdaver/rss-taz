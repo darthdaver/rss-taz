{
 "cells": [
  {
   "cell_type": "code",
   "execution_count": 1,
   "outputs": [
    {
     "name": "stdout",
     "output_type": "stream",
     "text": [
      "Requirement already satisfied: pandas in /Users/davidemolinelli/miniconda3/envs/ride-sharing-simulator/lib/python3.9/site-packages (1.4.3)\r\n",
      "Requirement already satisfied: python-dateutil>=2.8.1 in /Users/davidemolinelli/miniconda3/envs/ride-sharing-simulator/lib/python3.9/site-packages (from pandas) (2.8.2)\r\n",
      "Requirement already satisfied: numpy>=1.18.5 in /Users/davidemolinelli/miniconda3/envs/ride-sharing-simulator/lib/python3.9/site-packages (from pandas) (1.23.0)\r\n",
      "Requirement already satisfied: pytz>=2020.1 in /Users/davidemolinelli/miniconda3/envs/ride-sharing-simulator/lib/python3.9/site-packages (from pandas) (2022.2.1)\r\n",
      "Requirement already satisfied: six>=1.5 in /Users/davidemolinelli/miniconda3/envs/ride-sharing-simulator/lib/python3.9/site-packages (from python-dateutil>=2.8.1->pandas) (1.16.0)\r\n",
      "Collecting tqdm\r\n",
      "  Downloading tqdm-4.64.1-py2.py3-none-any.whl (78 kB)\r\n",
      "\u001B[K     |████████████████████████████████| 78 kB 6.3 MB/s eta 0:00:011\r\n",
      "\u001B[?25hInstalling collected packages: tqdm\r\n",
      "Successfully installed tqdm-4.64.1\r\n"
     ]
    }
   ],
   "source": [
    "!pip install pandas\n",
    "!pip install tqdm"
   ],
   "metadata": {
    "collapsed": false,
    "pycharm": {
     "name": "#%%\n"
    }
   }
  },
  {
   "cell_type": "code",
   "execution_count": 1,
   "outputs": [],
   "source": [
    "import pandas as pd\n",
    "import os\n",
    "from tqdm import tqdm\n",
    "from src.enum.setup.Paths import Paths\n",
    "from src.enum.setup.FileFormat import FileFormat\n",
    "from src.enum.setup.FileName import FileName\n",
    "from src.enum.setup.Dataset import Dataset\n",
    "from src.enum.setup.City import City\n",
    "from src.utils import utils\n",
    "import json\n",
    "from pandas import json_normalize\n",
    "from itertools import product\n",
    "from joblib import Parallel, delayed\n",
    "from src.model.Provider import Provider\n",
    "from src.enum.setup.FileSetup import FileSetup\n",
    "import sumolib"
   ],
   "metadata": {
    "collapsed": false,
    "pycharm": {
     "name": "#%%\n"
    }
   }
  },
  {
   "cell_type": "code",
   "execution_count": 2,
   "outputs": [],
   "source": [
    "#sumo_net = sumolib.net.readNet(FileSetup.NET_SUMO.value)\n",
    "#provider = Provider(utils.read_setup(FileSetup.PROVIDER.value), sumo_net)"
   ],
   "metadata": {
    "collapsed": false,
    "pycharm": {
     "name": "#%%\n"
    }
   }
  },
  {
   "cell_type": "code",
   "execution_count": 3,
   "outputs": [],
   "source": [
    "input_absolute_path_to_file = utils.generate_absolute_path_to_file(\n",
    "    Paths.TAZ,\n",
    "    FileName.TAZ_POLY_DICT,\n",
    "    FileFormat.JSON,\n",
    "    Dataset.UBER,\n",
    "    City.SAN_FRANCISCO\n",
    ")\n",
    "\n",
    "json_data = utils.read_file_from_absolute_path_to_file(input_absolute_path_to_file, FileFormat.JSON)\n",
    "df_boundary = json_normalize(json_data)"
   ],
   "metadata": {
    "collapsed": false,
    "pycharm": {
     "name": "#%%\n"
    }
   }
  },
  {
   "cell_type": "code",
   "execution_count": 4,
   "outputs": [
    {
     "name": "stderr",
     "output_type": "stream",
     "text": [
      "100%|██████████| 20/20 [06:24<00:00, 19.22s/it]\n"
     ]
    }
   ],
   "source": [
    "concat_dataset_absolute_path_to_file = utils.generate_absolute_path_to_file(\n",
    "    Paths.MOBILITY,\n",
    "    FileName.TRAVEL_TIME_CONCAT,\n",
    "    FileFormat.CSV,\n",
    "    Dataset.UBER,\n",
    "    City.SAN_FRANCISCO\n",
    ")\n",
    "\n",
    "removed = 0\n",
    "\n",
    "if not os.path.exists(concat_dataset_absolute_path_to_file):\n",
    "    path_to_dir = utils.generate_absolute_path_to_dir(\n",
    "        Paths.MOBILITY,\n",
    "        FileFormat.CSV,\n",
    "        Dataset.UBER\n",
    "    )\n",
    "\n",
    "    file_name_list = utils.list_data_files_in_dir(path_to_dir, \"sf_uber_speed\")\n",
    "    df_list = []\n",
    "    for file_name in tqdm(file_name_list):\n",
    "        input_absolute_path_to_file = os.path.join(\n",
    "            Paths.MOBILITY.value,\n",
    "            Dataset.UBER.value,\n",
    "            FileFormat.CSV.value,\n",
    "            file_name\n",
    "        )\n",
    "        df = pd.read_csv(input_absolute_path_to_file)\n",
    "        initial_rows = df.shape[0]\n",
    "        df = df.dropna().astype({'sourceid': 'int64', 'dstid': 'int64'})\n",
    "        after_rows = df.shape[0]\n",
    "        removed += initial_rows - after_rows\n",
    "        df_list.append(df)\n",
    "    df_travel_time = pd.concat(df_list, axis=0, ignore_index=True)\n",
    "    #df_travel_time.to_csv(concat_dataset_absolute_path_to_file, index=False)\n",
    "else:\n",
    "    df_travel_time = pd.read_csv(concat_dataset_absolute_path_to_file)"
   ],
   "metadata": {
    "collapsed": false,
    "pycharm": {
     "name": "#%%\n"
    }
   }
  },
  {
   "cell_type": "code",
   "execution_count": 5,
   "outputs": [
    {
     "name": "stdout",
     "output_type": "stream",
     "text": [
      "Removed 2 rows from datasets.\n"
     ]
    }
   ],
   "source": [
    "print(f\"Removed {removed} rows from datasets.\")"
   ],
   "metadata": {
    "collapsed": false,
    "pycharm": {
     "name": "#%%\n"
    }
   }
  },
  {
   "cell_type": "code",
   "execution_count": 6,
   "outputs": [
    {
     "data": {
      "text/plain": "   taz_id  movement_id\n0  100011         3578\n1  100012         3583\n2  100013         3586\n3  100014         3599\n4  100015         3602",
      "text/html": "<div>\n<style scoped>\n    .dataframe tbody tr th:only-of-type {\n        vertical-align: middle;\n    }\n\n    .dataframe tbody tr th {\n        vertical-align: top;\n    }\n\n    .dataframe thead th {\n        text-align: right;\n    }\n</style>\n<table border=\"1\" class=\"dataframe\">\n  <thead>\n    <tr style=\"text-align: right;\">\n      <th></th>\n      <th>taz_id</th>\n      <th>movement_id</th>\n    </tr>\n  </thead>\n  <tbody>\n    <tr>\n      <th>0</th>\n      <td>100011</td>\n      <td>3578</td>\n    </tr>\n    <tr>\n      <th>1</th>\n      <td>100012</td>\n      <td>3583</td>\n    </tr>\n    <tr>\n      <th>2</th>\n      <td>100013</td>\n      <td>3586</td>\n    </tr>\n    <tr>\n      <th>3</th>\n      <td>100014</td>\n      <td>3599</td>\n    </tr>\n    <tr>\n      <th>4</th>\n      <td>100015</td>\n      <td>3602</td>\n    </tr>\n  </tbody>\n</table>\n</div>"
     },
     "execution_count": 6,
     "metadata": {},
     "output_type": "execute_result"
    }
   ],
   "source": [
    "df_boundary = df_boundary.rename(columns={\"@id\" :\"taz_id\", \"param.MOVEMENT_I\": \"movement_id\"})\n",
    "df_boundary = df_boundary[[\"taz_id\",\"movement_id\"]].astype({'taz_id': \"string\", 'movement_id': 'int64'})\n",
    "df_boundary.head()"
   ],
   "metadata": {
    "collapsed": false,
    "pycharm": {
     "name": "#%%\n"
    }
   }
  },
  {
   "cell_type": "code",
   "execution_count": 35,
   "outputs": [
    {
     "data": {
      "text/plain": "(731, 2)"
     },
     "execution_count": 35,
     "metadata": {},
     "output_type": "execute_result"
    }
   ],
   "source": [
    "df_boundary.shape"
   ],
   "metadata": {
    "collapsed": false,
    "pycharm": {
     "name": "#%%\n"
    }
   }
  },
  {
   "cell_type": "code",
   "execution_count": 7,
   "outputs": [
    {
     "data": {
      "text/plain": "(727903593, 7)"
     },
     "execution_count": 7,
     "metadata": {},
     "output_type": "execute_result"
    }
   ],
   "source": [
    "df_travel_time.shape"
   ],
   "metadata": {
    "collapsed": false,
    "pycharm": {
     "name": "#%%\n"
    }
   }
  },
  {
   "cell_type": "code",
   "execution_count": 8,
   "outputs": [
    {
     "data": {
      "text/plain": "   sourceid  dstid   hod  mean_travel_time  standard_deviation_travel_time  \\\n0       497    532  22.0            105.17                           30.26   \n1       497    576  22.0            529.71                          376.59   \n2       532    495  16.0            378.86                          336.16   \n3       500    852  20.0            461.50                          256.63   \n4       576    495  16.0            772.00                          537.45   \n\n   geometric_mean_travel_time  geometric_standard_deviation_travel_time  \n0                       97.98                                      1.55  \n1                      402.15                                      2.20  \n2                      295.15                                      1.86  \n3                      368.43                                      2.09  \n4                      653.48                                      1.69  ",
      "text/html": "<div>\n<style scoped>\n    .dataframe tbody tr th:only-of-type {\n        vertical-align: middle;\n    }\n\n    .dataframe tbody tr th {\n        vertical-align: top;\n    }\n\n    .dataframe thead th {\n        text-align: right;\n    }\n</style>\n<table border=\"1\" class=\"dataframe\">\n  <thead>\n    <tr style=\"text-align: right;\">\n      <th></th>\n      <th>sourceid</th>\n      <th>dstid</th>\n      <th>hod</th>\n      <th>mean_travel_time</th>\n      <th>standard_deviation_travel_time</th>\n      <th>geometric_mean_travel_time</th>\n      <th>geometric_standard_deviation_travel_time</th>\n    </tr>\n  </thead>\n  <tbody>\n    <tr>\n      <th>0</th>\n      <td>497</td>\n      <td>532</td>\n      <td>22.0</td>\n      <td>105.17</td>\n      <td>30.26</td>\n      <td>97.98</td>\n      <td>1.55</td>\n    </tr>\n    <tr>\n      <th>1</th>\n      <td>497</td>\n      <td>576</td>\n      <td>22.0</td>\n      <td>529.71</td>\n      <td>376.59</td>\n      <td>402.15</td>\n      <td>2.20</td>\n    </tr>\n    <tr>\n      <th>2</th>\n      <td>532</td>\n      <td>495</td>\n      <td>16.0</td>\n      <td>378.86</td>\n      <td>336.16</td>\n      <td>295.15</td>\n      <td>1.86</td>\n    </tr>\n    <tr>\n      <th>3</th>\n      <td>500</td>\n      <td>852</td>\n      <td>20.0</td>\n      <td>461.50</td>\n      <td>256.63</td>\n      <td>368.43</td>\n      <td>2.09</td>\n    </tr>\n    <tr>\n      <th>4</th>\n      <td>576</td>\n      <td>495</td>\n      <td>16.0</td>\n      <td>772.00</td>\n      <td>537.45</td>\n      <td>653.48</td>\n      <td>1.69</td>\n    </tr>\n  </tbody>\n</table>\n</div>"
     },
     "execution_count": 8,
     "metadata": {},
     "output_type": "execute_result"
    }
   ],
   "source": [
    "df_travel_time.head()\n"
   ],
   "metadata": {
    "collapsed": false,
    "pycharm": {
     "name": "#%%\n"
    }
   }
  },
  {
   "cell_type": "code",
   "execution_count": 9,
   "outputs": [],
   "source": [
    "columns = [\"sourceid\", \"dstid\", \"mean_travel_time\",\"standard_deviation_travel_time\"]\n",
    "df_travel_time = df_travel_time[columns].groupby(by=[\"sourceid\", \"dstid\"]).mean().reset_index()"
   ],
   "metadata": {
    "collapsed": false,
    "pycharm": {
     "name": "#%%\n"
    }
   }
  },
  {
   "cell_type": "code",
   "execution_count": 10,
   "outputs": [
    {
     "data": {
      "text/plain": "(3647502, 4)"
     },
     "execution_count": 10,
     "metadata": {},
     "output_type": "execute_result"
    }
   ],
   "source": [
    "df_travel_time.shape"
   ],
   "metadata": {
    "collapsed": false,
    "pycharm": {
     "name": "#%%\n"
    }
   }
  },
  {
   "cell_type": "code",
   "execution_count": 81,
   "outputs": [
    {
     "data": {
      "text/plain": "(506359, 6)"
     },
     "execution_count": 81,
     "metadata": {},
     "output_type": "execute_result"
    }
   ],
   "source": [
    "columns = [\"src_movement_id\",\"dst_movement_id\", \"sourceid\", \"dstid\", \"mean_travel_time\",\"standard_deviation_travel_time\"]\n",
    "df_travel_time_taz_id = pd.merge(df_travel_time, df_boundary, how=\"inner\", left_on=\"sourceid\", right_on=\"movement_id\").rename(columns={\"sourceid\": \"src_movement_id\",\"taz_id\": \"sourceid\"})\n",
    "df_travel_time_taz_id = pd.merge(df_travel_time_taz_id, df_boundary, how=\"inner\", left_on=\"dstid\", right_on=\"movement_id\").rename(columns={\"dstid\": \"dst_movement_id\", \"taz_id\": \"dstid\"})\n",
    "df_travel_time_taz_id = df_travel_time_taz_id[columns]\n",
    "df_travel_time_taz_id.shape"
   ],
   "metadata": {
    "collapsed": false,
    "pycharm": {
     "name": "#%%\n"
    }
   }
  },
  {
   "cell_type": "code",
   "execution_count": 82,
   "outputs": [
    {
     "data": {
      "text/plain": "   src_movement_id  dst_movement_id sourceid   dstid  mean_travel_time  \\\n0             3370             3370   100281  100281        158.787222   \n1             3372             3370   100301  100281        300.791106   \n2             3375             3370   100324  100281        550.289084   \n3             3377             3370   100392  100281        938.935842   \n4             3382             3370   100393  100281        807.820289   \n\n   standard_deviation_travel_time  \n0                      250.462222  \n1                      160.166010  \n2                      169.947614  \n3                      268.909035  \n4                      278.182120  ",
      "text/html": "<div>\n<style scoped>\n    .dataframe tbody tr th:only-of-type {\n        vertical-align: middle;\n    }\n\n    .dataframe tbody tr th {\n        vertical-align: top;\n    }\n\n    .dataframe thead th {\n        text-align: right;\n    }\n</style>\n<table border=\"1\" class=\"dataframe\">\n  <thead>\n    <tr style=\"text-align: right;\">\n      <th></th>\n      <th>src_movement_id</th>\n      <th>dst_movement_id</th>\n      <th>sourceid</th>\n      <th>dstid</th>\n      <th>mean_travel_time</th>\n      <th>standard_deviation_travel_time</th>\n    </tr>\n  </thead>\n  <tbody>\n    <tr>\n      <th>0</th>\n      <td>3370</td>\n      <td>3370</td>\n      <td>100281</td>\n      <td>100281</td>\n      <td>158.787222</td>\n      <td>250.462222</td>\n    </tr>\n    <tr>\n      <th>1</th>\n      <td>3372</td>\n      <td>3370</td>\n      <td>100301</td>\n      <td>100281</td>\n      <td>300.791106</td>\n      <td>160.166010</td>\n    </tr>\n    <tr>\n      <th>2</th>\n      <td>3375</td>\n      <td>3370</td>\n      <td>100324</td>\n      <td>100281</td>\n      <td>550.289084</td>\n      <td>169.947614</td>\n    </tr>\n    <tr>\n      <th>3</th>\n      <td>3377</td>\n      <td>3370</td>\n      <td>100392</td>\n      <td>100281</td>\n      <td>938.935842</td>\n      <td>268.909035</td>\n    </tr>\n    <tr>\n      <th>4</th>\n      <td>3382</td>\n      <td>3370</td>\n      <td>100393</td>\n      <td>100281</td>\n      <td>807.820289</td>\n      <td>278.182120</td>\n    </tr>\n  </tbody>\n</table>\n</div>"
     },
     "execution_count": 82,
     "metadata": {},
     "output_type": "execute_result"
    }
   ],
   "source": [
    "df_travel_time_taz_id.head()\n"
   ],
   "metadata": {
    "collapsed": false,
    "pycharm": {
     "name": "#%%\n"
    }
   }
  },
  {
   "cell_type": "code",
   "execution_count": 83,
   "outputs": [
    {
     "data": {
      "text/plain": "(506359, 6)"
     },
     "execution_count": 83,
     "metadata": {},
     "output_type": "execute_result"
    }
   ],
   "source": [
    "df_travel_time_taz_id.shape"
   ],
   "metadata": {
    "collapsed": false,
    "pycharm": {
     "name": "#%%\n"
    }
   }
  },
  {
   "cell_type": "code",
   "execution_count": 84,
   "outputs": [
    {
     "name": "stdout",
     "output_type": "stream",
     "text": [
      "Missing couples 28002\n"
     ]
    }
   ],
   "source": [
    "boundary_product = set(product(df_boundary['taz_id'], df_boundary['taz_id']))\n",
    "dataset_couples = set(zip(df_travel_time_taz_id['sourceid'], df_travel_time_taz_id['dstid']))\n",
    "\n",
    "missing_couples = list(boundary_product - dataset_couples)\n",
    "\n",
    "print(f\"Missing couples {len(missing_couples)}\")"
   ],
   "metadata": {
    "collapsed": false,
    "pycharm": {
     "name": "#%%\n"
    }
   }
  },
  {
   "cell_type": "code",
   "execution_count": 87,
   "outputs": [
    {
     "data": {
      "text/plain": "  sourceid   dstid\n0   100996  100325\n1   101003  100022\n2   10017D  101181\n3   100274  101071\n4   101182  10001F",
      "text/html": "<div>\n<style scoped>\n    .dataframe tbody tr th:only-of-type {\n        vertical-align: middle;\n    }\n\n    .dataframe tbody tr th {\n        vertical-align: top;\n    }\n\n    .dataframe thead th {\n        text-align: right;\n    }\n</style>\n<table border=\"1\" class=\"dataframe\">\n  <thead>\n    <tr style=\"text-align: right;\">\n      <th></th>\n      <th>sourceid</th>\n      <th>dstid</th>\n    </tr>\n  </thead>\n  <tbody>\n    <tr>\n      <th>0</th>\n      <td>100996</td>\n      <td>100325</td>\n    </tr>\n    <tr>\n      <th>1</th>\n      <td>101003</td>\n      <td>100022</td>\n    </tr>\n    <tr>\n      <th>2</th>\n      <td>10017D</td>\n      <td>101181</td>\n    </tr>\n    <tr>\n      <th>3</th>\n      <td>100274</td>\n      <td>101071</td>\n    </tr>\n    <tr>\n      <th>4</th>\n      <td>101182</td>\n      <td>10001F</td>\n    </tr>\n  </tbody>\n</table>\n</div>"
     },
     "execution_count": 87,
     "metadata": {},
     "output_type": "execute_result"
    }
   ],
   "source": [
    "df_missing_couples = pd.DataFrame(missing_couples, columns=['sourceid', 'dstid'])\n",
    "df_missing_couples.head()"
   ],
   "metadata": {
    "collapsed": false,
    "pycharm": {
     "name": "#%%\n"
    }
   }
  },
  {
   "cell_type": "code",
   "execution_count": 88,
   "outputs": [
    {
     "data": {
      "text/plain": "(28002, 2)"
     },
     "execution_count": 88,
     "metadata": {},
     "output_type": "execute_result"
    }
   ],
   "source": [
    "df_missing_couples.shape\n"
   ],
   "metadata": {
    "collapsed": false,
    "pycharm": {
     "name": "#%%\n"
    }
   }
  },
  {
   "cell_type": "code",
   "execution_count": 95,
   "outputs": [
    {
     "name": "stdout",
     "output_type": "stream",
     "text": [
      "/Users/davidemolinelli/Downloads/ride-sharing-simulator-taz/src/enum/setup/../../../data/sf/mobility/uber/csv/sf_uber_travel_time.csv\n"
     ]
    }
   ],
   "source": [
    "output_absolute_path_to_file = utils.generate_absolute_path_to_file(\n",
    "    Paths.MOBILITY,\n",
    "    FileName.TRAVEL_TIME_OUT,\n",
    "    FileFormat.CSV,\n",
    "    Dataset.UBER,\n",
    "    City.SAN_FRANCISCO\n",
    ")\n",
    "utils.check_path_exists(output_absolute_path_to_file, is_path_file=True)\n",
    "df_travel_time_taz_id.to_csv(output_absolute_path_to_file, index=False)"
   ],
   "metadata": {
    "collapsed": false,
    "pycharm": {
     "name": "#%%\n"
    }
   }
  },
  {
   "cell_type": "code",
   "execution_count": 97,
   "outputs": [],
   "source": [
    "output_absolute_path_to_file = utils.generate_absolute_path_to_file(\n",
    "    Paths.MOBILITY,\n",
    "    FileName.TRAVEL_TIME_MISSING_COUPLES,\n",
    "    FileFormat.CSV,\n",
    "    Dataset.UBER,\n",
    "    City.SAN_FRANCISCO\n",
    ")\n",
    "\n",
    "utils.check_path_exists(output_absolute_path_to_file, is_path_file=True)\n",
    "df_missing_couples.to_csv(output_absolute_path_to_file, index=False)"
   ],
   "metadata": {
    "collapsed": false,
    "pycharm": {
     "name": "#%%\n"
    }
   }
  },
  {
   "cell_type": "code",
   "execution_count": 107,
   "outputs": [],
   "source": [
    "travel_time_dict = {}\n",
    "\n",
    "for row in df_travel_time_taz_id.to_dict(orient=\"records\"):\n",
    "    if not row[\"sourceid\"] in travel_time_dict:\n",
    "        travel_time_dict[row[\"sourceid\"]] = {}\n",
    "\n",
    "    \"\"\"expected_price_surge_1x = provider.compute_price(\n",
    "        row[\"mean_travel_time\"],\n",
    "\n",
    "    )\"\"\"\n",
    "\n",
    "    travel_time_dict[row[\"sourceid\"]] = {\n",
    "        **travel_time_dict[row[\"sourceid\"]],\n",
    "        row[\"dstid\"]: {\n",
    "            \"mean_travel_time\": row[\"mean_travel_time\"],\n",
    "            \"std_travel_time\": row[\"standard_deviation_travel_time\"]\n",
    "        }\n",
    "    }\n",
    "\n",
    "output_absolute_path_to_file = utils.generate_absolute_path_to_file(\n",
    "    Paths.MOBILITY,\n",
    "    FileName.TRAVEL_TIME_OUT,\n",
    "    FileFormat.JSON,\n",
    "    Dataset.UBER,\n",
    "    City.SAN_FRANCISCO\n",
    ")\n",
    "utils.export_file_from_absolute_path(output_absolute_path_to_file, FileFormat.JSON, travel_time_dict)"
   ],
   "metadata": {
    "collapsed": false,
    "pycharm": {
     "name": "#%%\n"
    }
   }
  },
  {
   "cell_type": "code",
   "execution_count": 105,
   "outputs": [],
   "source": [
    "travel_time_missing_couples_dict = {}\n",
    "\n",
    "for row in df_missing_couples.to_dict(orient=\"records\"):\n",
    "    if row[\"sourceid\"] not in travel_time_missing_couples_dict:\n",
    "        travel_time_missing_couples_dict[row[\"sourceid\"]] = []\n",
    "    travel_time_missing_couples_dict[row[\"sourceid\"]].append(row[\"dstid\"])\n",
    "\n",
    "output_absolute_path_to_file = utils.generate_absolute_path_to_file(\n",
    "    Paths.MOBILITY,\n",
    "    FileName.TRAVEL_TIME_MISSING_COUPLES,\n",
    "    FileFormat.JSON,\n",
    "    Dataset.UBER,\n",
    "    City.SAN_FRANCISCO\n",
    ")\n",
    "\n",
    "utils.export_file_from_absolute_path(output_absolute_path_to_file, FileFormat.JSON, travel_time_missing_couples_dict)\n"
   ],
   "metadata": {
    "collapsed": false,
    "pycharm": {
     "name": "#%%\n"
    }
   }
  },
  {
   "cell_type": "code",
   "execution_count": 13,
   "outputs": [],
   "source": [
    "concat_mean_dataset_absolute_path_to_file = utils.generate_absolute_path_to_file(\n",
    "    Paths.MOBILITY,\n",
    "    FileName.TRAVEL_TIME_CONCAT_MEAN,\n",
    "    FileFormat.CSV,\n",
    "    Dataset.UBER,\n",
    "    City.SAN_FRANCISCO\n",
    ")\n",
    "\n",
    "df_travel_time.to_csv(concat_dataset_absolute_path_to_file, index=False)"
   ],
   "metadata": {
    "collapsed": false,
    "pycharm": {
     "name": "#%%\n"
    }
   }
  },
  {
   "cell_type": "code",
   "execution_count": null,
   "outputs": [],
   "source": [],
   "metadata": {
    "collapsed": false,
    "pycharm": {
     "name": "#%%\n"
    }
   }
  }
 ],
 "metadata": {
  "kernelspec": {
   "display_name": "Python 3",
   "language": "python",
   "name": "python3"
  },
  "language_info": {
   "codemirror_mode": {
    "name": "ipython",
    "version": 2
   },
   "file_extension": ".py",
   "mimetype": "text/x-python",
   "name": "python",
   "nbconvert_exporter": "python",
   "pygments_lexer": "ipython2",
   "version": "2.7.6"
  }
 },
 "nbformat": 4,
 "nbformat_minor": 0
}